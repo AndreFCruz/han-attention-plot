{
 "cells": [
  {
   "cell_type": "code",
   "execution_count": 1,
   "metadata": {},
   "outputs": [],
   "source": [
    "JSON_PATH = 'by-article-train_attn-data.json'"
   ]
  },
  {
   "cell_type": "code",
   "execution_count": 2,
   "metadata": {},
   "outputs": [],
   "source": [
    "from json import JSONDecoder\n",
    "data = JSONDecoder().decode(open(JSON_PATH).read())"
   ]
  },
  {
   "cell_type": "code",
   "execution_count": 3,
   "metadata": {},
   "outputs": [],
   "source": [
    "word = 'Sponsored'\n",
    "hyper_count = dict()\n",
    "main_count = dict()\n",
    "\n",
    "for i, article in enumerate(data):\n",
    "    if word in article['normalizedText'][-1]:\n",
    "        energies = [e for w, e in article['activations'][-1][0] if w == word]\n",
    "        if article['hyperpartisan'] == 'true':\n",
    "            hyper_count[i] = {\n",
    "                'energies': energies,\n",
    "                'truth': article['hyperpartisan'],\n",
    "                'prediction': article['prediction'],\n",
    "                'pred_value': article['pred_value'],\n",
    "                'last_sent_e': article['activations'][-1][-1],\n",
    "            }\n",
    "        elif article['hyperpartisan'] == 'false':\n",
    "            main_count[i] = {\n",
    "                'energies': energies,\n",
    "                'truth': article['hyperpartisan'],\n",
    "                'prediction': article['prediction'],\n",
    "                'pred_value': article['pred_value'],\n",
    "                'last_sent_e': article['activations'][-1][-1],\n",
    "            }\n",
    "        else:\n",
    "            raise RuntimeError('json format invalid')"
   ]
  },
  {
   "cell_type": "code",
   "execution_count": 4,
   "metadata": {},
   "outputs": [
    {
     "name": "stdout",
     "output_type": "stream",
     "text": [
      "AVG: 0.6635681491087156\n"
     ]
    },
    {
     "data": {
      "text/plain": [
       "[0.0354163683950901,\n",
       " 0.992123124966998,\n",
       " 0.9735337741791845,\n",
       " 0.991712882118847,\n",
       " 0.9944918046564446,\n",
       " 0.6316286419148227,\n",
       " 0.9086879082272752,\n",
       " 1.803168602962205e-07,\n",
       " 0.8397275080413777,\n",
       " 0.9909074701408827,\n",
       " 0.9974594270300798,\n",
       " 0.9967450205754957,\n",
       " 0.023736962833016406,\n",
       " 0.07641113456554516,\n",
       " 0.03000348564508537,\n",
       " 0.8006365770388264,\n",
       " 0.9974362642023351]"
      ]
     },
     "execution_count": 4,
     "metadata": {},
     "output_type": "execute_result"
    }
   ],
   "source": [
    "# Average word energy of 1st 'Sponsored' tag\n",
    "avg_final_e = [el['energies'][0] * el['last_sent_e'] for el in hyper_count.values()]\n",
    "print('AVG:', sum(avg_final_e) / len(avg_final_e))\n",
    "avg_final_e"
   ]
  },
  {
   "cell_type": "code",
   "execution_count": 5,
   "metadata": {},
   "outputs": [
    {
     "name": "stdout",
     "output_type": "stream",
     "text": [
      "AVG: 0.6635681491087156\n"
     ]
    },
    {
     "data": {
      "text/plain": [
       "[0.0354163683950901,\n",
       " 0.992123124966998,\n",
       " 0.9735337741791845,\n",
       " 0.991712882118847,\n",
       " 0.9944918046564446,\n",
       " 0.6316286419148227,\n",
       " 0.9086879082272752,\n",
       " 1.803168602962205e-07,\n",
       " 0.8397275080413777,\n",
       " 0.9909074701408827,\n",
       " 0.9974594270300798,\n",
       " 0.9967450205754957,\n",
       " 0.023736962833016406,\n",
       " 0.07641113456554516,\n",
       " 0.03000348564508537,\n",
       " 0.8006365770388264,\n",
       " 0.9974362642023351]"
      ]
     },
     "execution_count": 5,
     "metadata": {},
     "output_type": "execute_result"
    }
   ],
   "source": [
    "# Average final energy of 1st 'Sponsored' tag (word_e * sentence_e)\n",
    "avg_final_e = [el['energies'][0] * el['last_sent_e'] for el in hyper_count.values()]\n",
    "print('AVG:', sum(avg_final_e) / len(avg_final_e))\n",
    "avg_final_e"
   ]
  },
  {
   "cell_type": "code",
   "execution_count": 6,
   "metadata": {},
   "outputs": [],
   "source": [
    "### ### ###"
   ]
  },
  {
   "cell_type": "code",
   "execution_count": 7,
   "metadata": {},
   "outputs": [],
   "source": [
    "hyper_articles = [el for el in data if el['hyperpartisan'] == 'true']\n",
    "main_articles = [el for el in data if el['hyperpartisan'] == 'false']\n",
    "assert len(hyper_articles) + len(main_articles) == len(data)"
   ]
  },
  {
   "cell_type": "code",
   "execution_count": 8,
   "metadata": {},
   "outputs": [],
   "source": [
    "hyper_sent_att = [activ[-1] for a in hyper_articles for activ in a['activations']]\n",
    "main_sent_att = [activ[-1] for a in main_articles for activ in a['activations']]"
   ]
  },
  {
   "cell_type": "code",
   "execution_count": 19,
   "metadata": {},
   "outputs": [
    {
     "data": {
      "image/png": "[encoded data removed]",
      "text/plain": [
       "<Figure size 432x288 with 1 Axes>"
      ]
     },
     "metadata": {
      "needs_background": "light"
     },
     "output_type": "display_data"
    }
   ],
   "source": [
    "import seaborn as sns\n",
    "import matplotlib.pyplot as plt\n",
    "sns.distplot(hyper_sent_att, hist=False, rug=False, label=\"hyperpartisan\")\n",
    "sns.distplot(main_sent_att, hist=False, rug=False, label=\"mainstream\")\n",
    "\n",
    "plt.gcf().savefig('imgs/sentence_energy_distribution.png', dpi=400)\n",
    "plt.show()"
   ]
  },
  {
   "cell_type": "code",
   "execution_count": 10,
   "metadata": {},
   "outputs": [
    {
     "name": "stdout",
     "output_type": "stream",
     "text": [
      "Hyperpartisan Sentence Energy distribution:\n",
      "DescribeResult(nobs=7519, minmax=(2.3341956058453867e-20, 0.9999939203262329), mean=0.03127569871829999, variance=0.018976125018488714, skewness=5.418113652206876, kurtosis=30.10368002392932)\n",
      "\n",
      "Mainstream Sentence Energy distribution:\n",
      "DescribeResult(nobs=7906, minmax=(1.918610192922653e-17, 0.9999979734420776), mean=0.05102500207225129, variance=0.03304226684127542, skewness=4.101548782503461, kurtosis=16.13745577230267)\n",
      "\n"
     ]
    }
   ],
   "source": [
    "## Describe distribution\n",
    "from scipy import stats\n",
    "print('Hyperpartisan Sentence Energy distribution:')\n",
    "print(stats.describe(hyper_sent_att), end='\\n\\n')\n",
    "\n",
    "print('Mainstream Sentence Energy distribution:')\n",
    "print(stats.describe(main_sent_att), end='\\n\\n')"
   ]
  },
  {
   "cell_type": "code",
   "execution_count": 11,
   "metadata": {},
   "outputs": [],
   "source": [
    "## Average attention on most important sentence\n",
    "hyper_most_imp_sent = [max(activ[-1] for activ in a['activations']) for a in hyper_articles]\n",
    "main_most_imp_sent = [max(activ[-1] for activ in a['activations']) for a in main_articles]"
   ]
  },
  {
   "cell_type": "code",
   "execution_count": 12,
   "metadata": {},
   "outputs": [
    {
     "name": "stdout",
     "output_type": "stream",
     "text": [
      "Avg Hyperpartisan: 0.7294364526930741\n",
      "Avg Mainstream: 0.7810985228133729\n"
     ]
    }
   ],
   "source": [
    "print('Avg Hyperpartisan:', sum(hyper_most_imp_sent) / len(hyper_most_imp_sent))\n",
    "print('Avg Mainstream:', sum(main_most_imp_sent) / len(main_most_imp_sent))"
   ]
  },
  {
   "cell_type": "code",
   "execution_count": 13,
   "metadata": {},
   "outputs": [
    {
     "data": {
      "image/png": "[encoded data removed]",
      "text/plain": [
       "<Figure size 432x288 with 1 Axes>"
      ]
     },
     "metadata": {
      "needs_background": "light"
     },
     "output_type": "display_data"
    }
   ],
   "source": [
    "sns.distplot(hyper_most_imp_sent, hist=False, rug=False, label=\"hyperpartisan\")\n",
    "sns.distplot(main_most_imp_sent, hist=False, rug=False, label=\"mainstream\")\n",
    "\n",
    "plt.gcf().savefig('imgs/most_important_sentence_energy_distribution.png', dpi=400)\n",
    "plt.show()"
   ]
  },
  {
   "cell_type": "code",
   "execution_count": 14,
   "metadata": {},
   "outputs": [],
   "source": [
    "## Number of sentences with attention above a given threshold of importance\n",
    "THRESHOLD = 0.3\n",
    "hyper_important_sentences = [sum(1 for activ in a['activations'] if activ[-1] > THRESHOLD) for a in hyper_articles]\n",
    "main_important_sentences = [sum(1 for activ in a['activations'] if activ[-1] > THRESHOLD) for a in main_articles]"
   ]
  },
  {
   "cell_type": "code",
   "execution_count": 15,
   "metadata": {},
   "outputs": [
    {
     "name": "stdout",
     "output_type": "stream",
     "text": [
      "Average number of sentences above 0.3:\n",
      "\thyperpartisan: 1.1265822784810127\n",
      "\tmainstream:    1.1105651105651106\n"
     ]
    }
   ],
   "source": [
    "print('Average number of sentences above {}:'.format(THRESHOLD))\n",
    "print('\\thyperpartisan: {}'.format(sum(hyper_important_sentences) / len(hyper_important_sentences)))\n",
    "print('\\tmainstream:    {}'.format(sum(main_important_sentences) / len(main_important_sentences)))"
   ]
  },
  {
   "cell_type": "code",
   "execution_count": 16,
   "metadata": {},
   "outputs": [],
   "source": [
    "### ### ###"
   ]
  },
  {
   "cell_type": "code",
   "execution_count": 17,
   "metadata": {},
   "outputs": [
    {
     "name": "stdout",
     "output_type": "stream",
     "text": [
      "p-value for the hypothesis that the two distributions have equal mean: 2.529547738438885e-14\n"
     ]
    }
   ],
   "source": [
    "## Calculating statistical significance that the two distributions are distinct\n",
    "## Welch's t-test: https://en.wikipedia.org/wiki/Welch%27s_t-test\n",
    "t_val, p_val = stats.ttest_ind(hyper_sent_att, main_sent_att, equal_var=False)\n",
    "print('p-value for the hypothesis that the two distributions have equal mean:', p_val)"
   ]
  },
  {
   "cell_type": "code",
   "execution_count": 18,
   "metadata": {},
   "outputs": [
    {
     "name": "stdout",
     "output_type": "stream",
     "text": [
      "0.0028554798903885777\n"
     ]
    }
   ],
   "source": [
    "## Statistical significance of hypothesis:\n",
    "## attention of most important sentence of a mainstream article is larger than that of a hyperpartisan article\n",
    "from statsmodels.stats import weightstats as stests\n",
    "_, p_val = stests.ztest(hyper_most_imp_sent, main_most_imp_sent, value=0)\n",
    "print(p_val)"
   ]
  },
  {
   "cell_type": "code",
   "execution_count": null,
   "metadata": {},
   "outputs": [],
   "source": []
  }
 ],
 "metadata": {
  "kernelspec": {
   "display_name": "Python 3",
   "language": "python",
   "name": "python3"
  },
  "language_info": {
   "codemirror_mode": {
    "name": "ipython",
    "version": 3
   },
   "file_extension": ".py",
   "mimetype": "text/x-python",
   "name": "python",
   "nbconvert_exporter": "python",
   "pygments_lexer": "ipython3",
   "version": "3.7.5"
  }
 },
 "nbformat": 4,
 "nbformat_minor": 2
}
